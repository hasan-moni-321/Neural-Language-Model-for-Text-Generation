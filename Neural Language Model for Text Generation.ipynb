{
 "cells": [
  {
   "cell_type": "markdown",
   "metadata": {},
   "source": [
    "### About The Project:\n",
    "    1) I used Republic of palto books data this dataset is available on google.\n",
    "    \n",
    "    1) It took around 10 hours for train\n",
    "    "
   ]
  },
  {
   "cell_type": "code",
   "execution_count": 1,
   "metadata": {},
   "outputs": [
    {
     "name": "stderr",
     "output_type": "stream",
     "text": [
      "Using TensorFlow backend.\n"
     ]
    }
   ],
   "source": [
    "import numpy as np\n",
    "import re, string\n",
    "\n",
    "from random import randint\n",
    "from pickle import dump, load\n",
    "from keras.preprocessing.text import Tokenizer\n",
    "from keras.utils.vis_utils import plot_model\n",
    "from keras.utils import to_categorical\n",
    "from keras.models import Sequential\n",
    "from keras.layers import Dense, LSTM, Embedding\n",
    "from keras.models import load_model\n",
    "from keras.preprocessing.sequence import pad_sequences\n",
    "\n"
   ]
  },
  {
   "cell_type": "markdown",
   "metadata": {},
   "source": [
    "### Reading Dataset"
   ]
  },
  {
   "cell_type": "code",
   "execution_count": 2,
   "metadata": {},
   "outputs": [
    {
     "name": "stdout",
     "output_type": "stream",
     "text": [
      "BOOK I.\n",
      "\n",
      "I went down yesterday to the Piraeus with Glaucon the son of Ariston,\n",
      "that I might offer up my prayers to the goddess (Bendis, the Thracian\n",
      "Artemis.); and also because I wanted to see in what\n"
     ]
    }
   ],
   "source": [
    "# load doc into memory\n",
    "def load_doc(filename):\n",
    "    file = open(filename, 'r')\n",
    "    text = file.read()\n",
    "    file.close()\n",
    "    return text\n",
    "\n",
    "\n",
    "# load document\n",
    "in_filename = '/home/hasan/DATA SET/Republic Plato Data/Republic Plato.txt'\n",
    "doc = load_doc(in_filename)\n",
    "print(doc[:200])\n"
   ]
  },
  {
   "cell_type": "code",
   "execution_count": null,
   "metadata": {},
   "outputs": [],
   "source": []
  },
  {
   "cell_type": "markdown",
   "metadata": {},
   "source": [
    "### Cleaning Data"
   ]
  },
  {
   "cell_type": "code",
   "execution_count": 3,
   "metadata": {},
   "outputs": [
    {
     "name": "stdout",
     "output_type": "stream",
     "text": [
      " Total Tokens: 101762\n",
      " Unique Tokens: 6245\n",
      "\n",
      "\n",
      " ['book', 'i', 'went', 'down', 'yesterday', 'to', 'the', 'piraeus', 'with', 'glaucon', 'the', 'son', 'of', 'that', 'i', 'might', 'offer', 'up', 'my', 'prayers', 'to', 'the', 'goddess', 'the', 'thracian', 'and', 'also', 'because', 'i', 'wanted', 'to', 'see', 'in', 'what', 'manner', 'they', 'would', 'celebrate', 'the', 'which', 'was', 'a', 'new', 'i', 'was', 'delighted', 'with', 'the', 'procession', 'of', 'the', 'but', 'that', 'of', 'the', 'thracians', 'was', 'if', 'not', 'when', 'we', 'had', 'finished', 'our', 'prayers', 'and', 'viewed', 'the', 'we', 'turned', 'in', 'the', 'direction', 'of', 'the', 'and', 'at', 'that', 'instant', 'polemarchus', 'the', 'son', 'of', 'cephalus', 'chanced', 'to', 'catch', 'sight', 'of', 'us', 'from', 'a', 'distance', 'as', 'we', 'were', 'starting', 'on', 'our', 'way', 'and', 'told', 'his', 'servant', 'to', 'run', 'and', 'bid', 'us', 'wait', 'for', 'the', 'servant', 'took', 'hold', 'of', 'me', 'by', 'the', 'cloak', 'and', 'polemarchus', 'desires', 'you', 'to', 'i', 'turned', 'and', 'asked', 'him', 'where', 'his', 'master', 'there', 'he', 'said', 'the', 'coming', 'after', 'if', 'you', 'will', 'only', 'certainly', 'we', 'said', 'and', 'in', 'a', 'few', 'minutes', 'polemarchus', 'and', 'with', 'him', 'niceratus', 'the', 'son', 'of', 'and', 'several', 'others', 'who', 'had', 'been', 'at', 'the', 'polemarchus', 'said', 'to', 'i', 'that', 'you', 'and', 'your', 'companion', 'are', 'already', 'on', 'your', 'way', 'to', 'the', 'you', 'are', 'not', 'far', 'i', 'but', 'do', 'you', 'he', 'how', 'many', 'we', 'of', 'and', 'are', 'you', 'stronger']\n"
     ]
    }
   ],
   "source": [
    "# turn a doc into clean tokens\n",
    "def clean_doc(doc):\n",
    "    doc = doc.replace('--' , ' ')\n",
    "    # split into tokens by white space\n",
    "    tokens = doc.split()\n",
    "    # prepare regex for char filtering\n",
    "    re_punc = re.compile( ' [%s]' % re.escape(string.punctuation))\n",
    "    tokens = [re_punc.sub( '' , w) for w in tokens]\n",
    "    tokens = [word for word in tokens if word.isalpha()]\n",
    "    tokens = [word.lower() for word in tokens]\n",
    "    return tokens\n",
    "\n",
    "\n",
    "# clean document\n",
    "tokens = clean_doc(doc)\n",
    "print( ' Total Tokens: %d' % len(tokens))\n",
    "print( ' Unique Tokens: %d' % len(set(tokens)))\n",
    "print('\\n\\n', tokens[:200])\n"
   ]
  },
  {
   "cell_type": "code",
   "execution_count": null,
   "metadata": {},
   "outputs": [],
   "source": []
  },
  {
   "cell_type": "markdown",
   "metadata": {},
   "source": [
    "### Creating Sequence of Token"
   ]
  },
  {
   "cell_type": "code",
   "execution_count": 4,
   "metadata": {},
   "outputs": [
    {
     "name": "stdout",
     "output_type": "stream",
     "text": [
      "Total Sequences: 101711\n"
     ]
    }
   ],
   "source": [
    "# organize into sequences of tokens\n",
    "length = 50 + 1\n",
    "sequences = list()\n",
    "for i in range(length, len(tokens)):\n",
    "    seq = tokens[i-length:i]\n",
    "    line = ' ' .join(seq)\n",
    "    sequences.append(line)\n",
    "    \n",
    "print('Total Sequences: %d' % len(sequences))\n",
    "#print('\\n\\n',sequence[0:10])"
   ]
  },
  {
   "cell_type": "code",
   "execution_count": null,
   "metadata": {},
   "outputs": [],
   "source": []
  },
  {
   "cell_type": "markdown",
   "metadata": {},
   "source": [
    "### Saving Tokens"
   ]
  },
  {
   "cell_type": "code",
   "execution_count": 5,
   "metadata": {},
   "outputs": [],
   "source": [
    "# save tokens to file, one dialog per line\n",
    "def save_doc(lines, filename):\n",
    "    data = ' \\n ' .join(lines)\n",
    "    file = open(filename, 'w')\n",
    "    file.write(data)\n",
    "    file.close()\n",
    "    \n",
    "# save sequences to file\n",
    "out_filename = '/home/hasan/DATA SET/Republic Plato Data/republic_sequences.txt'\n",
    "save_doc(sequences, out_filename)"
   ]
  },
  {
   "cell_type": "code",
   "execution_count": null,
   "metadata": {},
   "outputs": [],
   "source": []
  },
  {
   "cell_type": "markdown",
   "metadata": {},
   "source": [
    "### Loading Tokens"
   ]
  },
  {
   "cell_type": "code",
   "execution_count": 6,
   "metadata": {},
   "outputs": [],
   "source": [
    "# load\n",
    "in_filename = '/home/hasan/DATA SET/Republic Plato Data/republic_sequences.txt'\n",
    "doc = load_doc(in_filename)\n",
    "lines = doc.split('\\n')"
   ]
  },
  {
   "cell_type": "code",
   "execution_count": null,
   "metadata": {},
   "outputs": [],
   "source": []
  },
  {
   "cell_type": "markdown",
   "metadata": {},
   "source": [
    "### Encode Sequence"
   ]
  },
  {
   "cell_type": "code",
   "execution_count": 7,
   "metadata": {},
   "outputs": [],
   "source": [
    "# integer encode sequences of words\n",
    "tokenizer = Tokenizer()\n",
    "tokenizer.fit_on_texts(lines)\n",
    "sequences = tokenizer.texts_to_sequences(lines)"
   ]
  },
  {
   "cell_type": "code",
   "execution_count": 22,
   "metadata": {},
   "outputs": [],
   "source": [
    "# save the tokenizer\n",
    "dump(tokenizer, open('tokenizer.pkl', 'wb'))"
   ]
  },
  {
   "cell_type": "code",
   "execution_count": null,
   "metadata": {},
   "outputs": [],
   "source": []
  },
  {
   "cell_type": "markdown",
   "metadata": {},
   "source": [
    "### Vocabulary Size"
   ]
  },
  {
   "cell_type": "code",
   "execution_count": 9,
   "metadata": {},
   "outputs": [],
   "source": [
    "# vocabulary size\n",
    "vocab_size = len(tokenizer.word_index) + 1"
   ]
  },
  {
   "cell_type": "code",
   "execution_count": null,
   "metadata": {},
   "outputs": [],
   "source": []
  },
  {
   "cell_type": "markdown",
   "metadata": {},
   "source": [
    "### Input and Output Sequence "
   ]
  },
  {
   "cell_type": "code",
   "execution_count": 10,
   "metadata": {},
   "outputs": [],
   "source": [
    "# separate into input and output\n",
    "sequences = np.array(sequences)\n",
    "X, y = sequences[:,:-1], sequences[:,-1]\n",
    "y = to_categorical(y, num_classes=vocab_size)\n",
    "seq_length = X.shape[1]"
   ]
  },
  {
   "cell_type": "code",
   "execution_count": null,
   "metadata": {},
   "outputs": [],
   "source": []
  },
  {
   "cell_type": "markdown",
   "metadata": {},
   "source": [
    "### Model"
   ]
  },
  {
   "cell_type": "code",
   "execution_count": 11,
   "metadata": {},
   "outputs": [],
   "source": [
    "# define the model\n",
    "model = Sequential()\n",
    "model.add(Embedding(vocab_size, 50, input_length=seq_length))\n",
    "model.add(LSTM(100, return_sequences=True))\n",
    "model.add(LSTM(100))\n",
    "model.add(Dense(100, activation='relu'))\n",
    "model.add(Dense(vocab_size, activation= 'softmax'))\n",
    "    "
   ]
  },
  {
   "cell_type": "code",
   "execution_count": 12,
   "metadata": {},
   "outputs": [
    {
     "name": "stdout",
     "output_type": "stream",
     "text": [
      "Model: \"sequential_1\"\n",
      "_________________________________________________________________\n",
      "Layer (type)                 Output Shape              Param #   \n",
      "=================================================================\n",
      "embedding_1 (Embedding)      (None, 50, 50)            312300    \n",
      "_________________________________________________________________\n",
      "lstm_1 (LSTM)                (None, 50, 100)           60400     \n",
      "_________________________________________________________________\n",
      "lstm_2 (LSTM)                (None, 100)               80400     \n",
      "_________________________________________________________________\n",
      "dense_1 (Dense)              (None, 100)               10100     \n",
      "_________________________________________________________________\n",
      "dense_2 (Dense)              (None, 6246)              630846    \n",
      "=================================================================\n",
      "Total params: 1,094,046\n",
      "Trainable params: 1,094,046\n",
      "Non-trainable params: 0\n",
      "_________________________________________________________________\n"
     ]
    }
   ],
   "source": [
    "# summarize defined model\n",
    "model.summary()"
   ]
  },
  {
   "cell_type": "code",
   "execution_count": 13,
   "metadata": {},
   "outputs": [],
   "source": [
    "# compile network\n",
    "model.compile(loss='categorical_crossentropy', \n",
    "              optimizer= 'adam', \n",
    "              metrics=['accuracy'])"
   ]
  },
  {
   "cell_type": "code",
   "execution_count": 14,
   "metadata": {},
   "outputs": [
    {
     "data": {
      "image/png": "[encoded data removed]",
      "text/plain": [
       "<IPython.core.display.Image object>"
      ]
     },
     "execution_count": 14,
     "metadata": {},
     "output_type": "execute_result"
    }
   ],
   "source": [
    "#plot model\n",
    "plot_model(model, to_file='model.png', show_shapes=True)\n"
   ]
  },
  {
   "cell_type": "code",
   "execution_count": null,
   "metadata": {},
   "outputs": [],
   "source": []
  },
  {
   "cell_type": "markdown",
   "metadata": {},
   "source": [
    "### Fit Model"
   ]
  },
  {
   "cell_type": "code",
   "execution_count": 15,
   "metadata": {},
   "outputs": [
    {
     "name": "stderr",
     "output_type": "stream",
     "text": [
      "/home/hasan/anaconda3/lib/python3.7/site-packages/tensorflow_core/python/framework/indexed_slices.py:424: UserWarning: Converting sparse IndexedSlices to a dense Tensor of unknown shape. This may consume a large amount of memory.\n",
      "  \"Converting sparse IndexedSlices to a dense Tensor of unknown shape. \"\n"
     ]
    },
    {
     "name": "stdout",
     "output_type": "stream",
     "text": [
      "Epoch 1/200\n",
      "101711/101711 [==============================] - 163s 2ms/step - loss: 5.9172 - accuracy: 0.0777\n",
      "Epoch 2/200\n",
      "101711/101711 [==============================] - 160s 2ms/step - loss: 5.5410 - accuracy: 0.1104\n",
      "Epoch 3/200\n",
      "101711/101711 [==============================] - 161s 2ms/step - loss: 5.3533 - accuracy: 0.1338\n",
      "Epoch 4/200\n",
      "101711/101711 [==============================] - 160s 2ms/step - loss: 5.2051 - accuracy: 0.1497\n",
      "Epoch 5/200\n",
      "101711/101711 [==============================] - 160s 2ms/step - loss: 5.0908 - accuracy: 0.1581\n",
      "Epoch 6/200\n",
      "101711/101711 [==============================] - 157s 2ms/step - loss: 4.9994 - accuracy: 0.1625\n",
      "Epoch 7/200\n",
      "101711/101711 [==============================] - 157s 2ms/step - loss: 4.9214 - accuracy: 0.1671\n",
      "Epoch 8/200\n",
      "101711/101711 [==============================] - 157s 2ms/step - loss: 4.8507 - accuracy: 0.1713\n",
      "Epoch 9/200\n",
      "101711/101711 [==============================] - 158s 2ms/step - loss: 4.7858 - accuracy: 0.1760\n",
      "Epoch 10/200\n",
      "101711/101711 [==============================] - 158s 2ms/step - loss: 4.7229 - accuracy: 0.1806\n",
      "Epoch 11/200\n",
      "101711/101711 [==============================] - 158s 2ms/step - loss: 4.6605 - accuracy: 0.1851\n",
      "Epoch 12/200\n",
      "101711/101711 [==============================] - 158s 2ms/step - loss: 4.6014 - accuracy: 0.1870\n",
      "Epoch 13/200\n",
      "101711/101711 [==============================] - 158s 2ms/step - loss: 4.5458 - accuracy: 0.1904\n",
      "Epoch 14/200\n",
      "101711/101711 [==============================] - 158s 2ms/step - loss: 4.4938 - accuracy: 0.1929\n",
      "Epoch 15/200\n",
      "101711/101711 [==============================] - 162s 2ms/step - loss: 4.4436 - accuracy: 0.1943\n",
      "Epoch 16/200\n",
      "101711/101711 [==============================] - 162s 2ms/step - loss: 4.3949 - accuracy: 0.1967\n",
      "Epoch 17/200\n",
      "101711/101711 [==============================] - 160s 2ms/step - loss: 4.3504 - accuracy: 0.1992\n",
      "Epoch 18/200\n",
      "101711/101711 [==============================] - 159s 2ms/step - loss: 4.3059 - accuracy: 0.2006\n",
      "Epoch 19/200\n",
      "101711/101711 [==============================] - 159s 2ms/step - loss: 4.2656 - accuracy: 0.2015\n",
      "Epoch 20/200\n",
      "101711/101711 [==============================] - 159s 2ms/step - loss: 4.2256 - accuracy: 0.2038\n",
      "Epoch 21/200\n",
      "101711/101711 [==============================] - 159s 2ms/step - loss: 4.1882 - accuracy: 0.2053\n",
      "Epoch 22/200\n",
      "101711/101711 [==============================] - 159s 2ms/step - loss: 4.1537 - accuracy: 0.2083\n",
      "Epoch 23/200\n",
      "101711/101711 [==============================] - 159s 2ms/step - loss: 4.1218 - accuracy: 0.2093\n",
      "Epoch 24/200\n",
      "101711/101711 [==============================] - 160s 2ms/step - loss: 4.0912 - accuracy: 0.2107\n",
      "Epoch 25/200\n",
      "101711/101711 [==============================] - 159s 2ms/step - loss: 4.0622 - accuracy: 0.2125\n",
      "Epoch 26/200\n",
      "101711/101711 [==============================] - 159s 2ms/step - loss: 4.0344 - accuracy: 0.2144\n",
      "Epoch 27/200\n",
      "101711/101711 [==============================] - 160s 2ms/step - loss: 4.0072 - accuracy: 0.2166\n",
      "Epoch 28/200\n",
      "101711/101711 [==============================] - 159s 2ms/step - loss: 3.9823 - accuracy: 0.2183\n",
      "Epoch 29/200\n",
      "101711/101711 [==============================] - 159s 2ms/step - loss: 3.9588 - accuracy: 0.2204\n",
      "Epoch 30/200\n",
      "101711/101711 [==============================] - 159s 2ms/step - loss: 3.9357 - accuracy: 0.2219\n",
      "Epoch 31/200\n",
      "101711/101711 [==============================] - 160s 2ms/step - loss: 3.9149 - accuracy: 0.2235\n",
      "Epoch 32/200\n",
      "101711/101711 [==============================] - 159s 2ms/step - loss: 3.8927 - accuracy: 0.2264\n",
      "Epoch 33/200\n",
      "101711/101711 [==============================] - 159s 2ms/step - loss: 3.8725 - accuracy: 0.2292\n",
      "Epoch 34/200\n",
      "101711/101711 [==============================] - 160s 2ms/step - loss: 3.8522 - accuracy: 0.2306\n",
      "Epoch 35/200\n",
      "101711/101711 [==============================] - 160s 2ms/step - loss: 3.8384 - accuracy: 0.2322\n",
      "Epoch 36/200\n",
      "101711/101711 [==============================] - 160s 2ms/step - loss: 3.8192 - accuracy: 0.2336\n",
      "Epoch 37/200\n",
      "101711/101711 [==============================] - 160s 2ms/step - loss: 3.7994 - accuracy: 0.2362\n",
      "Epoch 38/200\n",
      "101711/101711 [==============================] - 160s 2ms/step - loss: 3.7805 - accuracy: 0.2379\n",
      "Epoch 39/200\n",
      "101711/101711 [==============================] - 161s 2ms/step - loss: 3.7621 - accuracy: 0.2401\n",
      "Epoch 40/200\n",
      "101711/101711 [==============================] - 160s 2ms/step - loss: 3.7465 - accuracy: 0.2429\n",
      "Epoch 41/200\n",
      "101711/101711 [==============================] - 160s 2ms/step - loss: 3.7281 - accuracy: 0.2433\n",
      "Epoch 42/200\n",
      "101711/101711 [==============================] - 160s 2ms/step - loss: 3.7118 - accuracy: 0.2462\n",
      "Epoch 43/200\n",
      "101711/101711 [==============================] - 160s 2ms/step - loss: 3.6951 - accuracy: 0.2475\n",
      "Epoch 44/200\n",
      "101711/101711 [==============================] - 160s 2ms/step - loss: 3.6795 - accuracy: 0.2485\n",
      "Epoch 45/200\n",
      "101711/101711 [==============================] - 162s 2ms/step - loss: 3.6638 - accuracy: 0.2503\n",
      "Epoch 46/200\n",
      "101711/101711 [==============================] - 164s 2ms/step - loss: 3.6451 - accuracy: 0.2536\n",
      "Epoch 47/200\n",
      "101711/101711 [==============================] - 163s 2ms/step - loss: 3.6314 - accuracy: 0.2546\n",
      "Epoch 48/200\n",
      "101711/101711 [==============================] - 160s 2ms/step - loss: 3.6160 - accuracy: 0.2570\n",
      "Epoch 49/200\n",
      "101711/101711 [==============================] - 160s 2ms/step - loss: 3.6023 - accuracy: 0.2576\n",
      "Epoch 50/200\n",
      "101711/101711 [==============================] - 161s 2ms/step - loss: 3.5856 - accuracy: 0.2598\n",
      "Epoch 51/200\n",
      "101711/101711 [==============================] - 158s 2ms/step - loss: 3.5740 - accuracy: 0.2624\n",
      "Epoch 52/200\n",
      "101711/101711 [==============================] - 158s 2ms/step - loss: 3.5564 - accuracy: 0.2647\n",
      "Epoch 53/200\n",
      "101711/101711 [==============================] - 158s 2ms/step - loss: 3.5427 - accuracy: 0.2660\n",
      "Epoch 54/200\n",
      "101711/101711 [==============================] - 159s 2ms/step - loss: 3.5280 - accuracy: 0.2673\n",
      "Epoch 55/200\n",
      "101711/101711 [==============================] - 158s 2ms/step - loss: 3.5159 - accuracy: 0.2680\n",
      "Epoch 56/200\n",
      "101711/101711 [==============================] - 159s 2ms/step - loss: 3.5018 - accuracy: 0.2701\n",
      "Epoch 57/200\n",
      "101711/101711 [==============================] - 159s 2ms/step - loss: 3.4876 - accuracy: 0.2722\n",
      "Epoch 58/200\n",
      "101711/101711 [==============================] - 159s 2ms/step - loss: 3.4747 - accuracy: 0.2752\n",
      "Epoch 59/200\n",
      "101711/101711 [==============================] - 159s 2ms/step - loss: 3.4600 - accuracy: 0.2758\n",
      "Epoch 60/200\n",
      "101711/101711 [==============================] - 159s 2ms/step - loss: 3.4482 - accuracy: 0.2778\n",
      "Epoch 61/200\n",
      "101711/101711 [==============================] - 159s 2ms/step - loss: 3.4347 - accuracy: 0.2806\n",
      "Epoch 62/200\n",
      "101711/101711 [==============================] - 159s 2ms/step - loss: 3.4220 - accuracy: 0.2814\n",
      "Epoch 63/200\n",
      "101711/101711 [==============================] - 159s 2ms/step - loss: 3.4077 - accuracy: 0.2838\n",
      "Epoch 64/200\n",
      "101711/101711 [==============================] - 159s 2ms/step - loss: 3.3964 - accuracy: 0.2848\n",
      "Epoch 65/200\n",
      "101711/101711 [==============================] - 160s 2ms/step - loss: 3.3853 - accuracy: 0.2871\n",
      "Epoch 66/200\n",
      "101711/101711 [==============================] - 159s 2ms/step - loss: 3.3717 - accuracy: 0.2889\n",
      "Epoch 67/200\n",
      "101711/101711 [==============================] - 159s 2ms/step - loss: 3.3588 - accuracy: 0.2904\n",
      "Epoch 68/200\n",
      "101711/101711 [==============================] - 159s 2ms/step - loss: 3.3463 - accuracy: 0.2924\n",
      "Epoch 69/200\n",
      "101711/101711 [==============================] - 159s 2ms/step - loss: 3.3329 - accuracy: 0.2940\n",
      "Epoch 70/200\n",
      "101711/101711 [==============================] - 160s 2ms/step - loss: 3.3204 - accuracy: 0.2970\n",
      "Epoch 71/200\n",
      "101711/101711 [==============================] - 159s 2ms/step - loss: 3.3094 - accuracy: 0.2978\n",
      "Epoch 72/200\n",
      "101711/101711 [==============================] - 159s 2ms/step - loss: 3.2980 - accuracy: 0.3005\n",
      "Epoch 73/200\n",
      "101711/101711 [==============================] - 160s 2ms/step - loss: 3.2845 - accuracy: 0.3008\n",
      "Epoch 74/200\n",
      "101711/101711 [==============================] - 159s 2ms/step - loss: 3.2738 - accuracy: 0.3042\n",
      "Epoch 75/200\n",
      "101711/101711 [==============================] - 159s 2ms/step - loss: 3.2628 - accuracy: 0.3043\n",
      "Epoch 76/200\n",
      "101711/101711 [==============================] - 159s 2ms/step - loss: 3.2496 - accuracy: 0.3050\n",
      "Epoch 77/200\n",
      "101711/101711 [==============================] - 159s 2ms/step - loss: 3.2376 - accuracy: 0.3084\n",
      "Epoch 78/200\n",
      "101711/101711 [==============================] - 159s 2ms/step - loss: 3.2270 - accuracy: 0.3101\n",
      "Epoch 79/200\n",
      "101711/101711 [==============================] - 159s 2ms/step - loss: 3.2157 - accuracy: 0.3120\n",
      "Epoch 80/200\n",
      "101711/101711 [==============================] - 160s 2ms/step - loss: 3.2042 - accuracy: 0.3158\n",
      "Epoch 81/200\n",
      "101711/101711 [==============================] - 159s 2ms/step - loss: 3.1932 - accuracy: 0.3149\n",
      "Epoch 82/200\n",
      "101711/101711 [==============================] - 159s 2ms/step - loss: 3.1825 - accuracy: 0.3173\n",
      "Epoch 83/200\n",
      "101711/101711 [==============================] - 159s 2ms/step - loss: 3.1695 - accuracy: 0.3198\n",
      "Epoch 84/200\n",
      "101711/101711 [==============================] - 160s 2ms/step - loss: 3.1587 - accuracy: 0.3222\n",
      "Epoch 85/200\n",
      "101711/101711 [==============================] - 159s 2ms/step - loss: 3.1469 - accuracy: 0.3234\n",
      "Epoch 86/200\n",
      "101711/101711 [==============================] - 159s 2ms/step - loss: 3.1368 - accuracy: 0.3243\n",
      "Epoch 87/200\n",
      "101711/101711 [==============================] - 163s 2ms/step - loss: 3.1241 - accuracy: 0.3277\n",
      "Epoch 88/200\n",
      "101711/101711 [==============================] - 163s 2ms/step - loss: 3.1148 - accuracy: 0.3277\n",
      "Epoch 89/200\n",
      "101711/101711 [==============================] - 162s 2ms/step - loss: 3.1056 - accuracy: 0.3294\n",
      "Epoch 90/200\n",
      "101711/101711 [==============================] - 161s 2ms/step - loss: 3.0951 - accuracy: 0.3311\n",
      "Epoch 91/200\n",
      "101711/101711 [==============================] - 160s 2ms/step - loss: 3.0821 - accuracy: 0.3331\n",
      "Epoch 92/200\n",
      "101711/101711 [==============================] - 160s 2ms/step - loss: 3.0732 - accuracy: 0.3351\n",
      "Epoch 93/200\n",
      "101711/101711 [==============================] - 160s 2ms/step - loss: 3.0609 - accuracy: 0.3367\n",
      "Epoch 94/200\n",
      "101711/101711 [==============================] - 163s 2ms/step - loss: 3.0508 - accuracy: 0.3386\n",
      "Epoch 95/200\n",
      "101711/101711 [==============================] - 164s 2ms/step - loss: 3.0412 - accuracy: 0.3401\n",
      "Epoch 96/200\n",
      "101711/101711 [==============================] - 168s 2ms/step - loss: 3.0292 - accuracy: 0.3423\n",
      "Epoch 97/200\n",
      "101711/101711 [==============================] - 160s 2ms/step - loss: 3.0199 - accuracy: 0.3422\n",
      "Epoch 98/200\n",
      "101711/101711 [==============================] - 160s 2ms/step - loss: 3.0113 - accuracy: 0.3453\n",
      "Epoch 99/200\n",
      "101711/101711 [==============================] - 161s 2ms/step - loss: 2.9979 - accuracy: 0.3474\n",
      "Epoch 100/200\n",
      "101711/101711 [==============================] - 160s 2ms/step - loss: 2.9897 - accuracy: 0.3488\n",
      "Epoch 101/200\n",
      "101711/101711 [==============================] - 160s 2ms/step - loss: 2.9814 - accuracy: 0.3509\n",
      "Epoch 102/200\n",
      "101711/101711 [==============================] - 161s 2ms/step - loss: 2.9693 - accuracy: 0.3520\n",
      "Epoch 103/200\n",
      "101711/101711 [==============================] - 160s 2ms/step - loss: 2.9600 - accuracy: 0.3537\n",
      "Epoch 104/200\n",
      "101711/101711 [==============================] - 160s 2ms/step - loss: 2.9487 - accuracy: 0.3556\n",
      "Epoch 105/200\n",
      "101711/101711 [==============================] - 160s 2ms/step - loss: 2.9401 - accuracy: 0.3575\n",
      "Epoch 106/200\n",
      "101711/101711 [==============================] - 161s 2ms/step - loss: 2.9308 - accuracy: 0.3599\n",
      "Epoch 107/200\n",
      "101711/101711 [==============================] - 160s 2ms/step - loss: 2.9193 - accuracy: 0.3606\n",
      "Epoch 108/200\n",
      "101711/101711 [==============================] - 160s 2ms/step - loss: 2.9106 - accuracy: 0.3625\n",
      "Epoch 109/200\n",
      "101711/101711 [==============================] - 160s 2ms/step - loss: 2.9003 - accuracy: 0.3646\n",
      "Epoch 110/200\n",
      "101711/101711 [==============================] - 160s 2ms/step - loss: 2.8902 - accuracy: 0.3655\n",
      "Epoch 111/200\n",
      "101711/101711 [==============================] - 160s 2ms/step - loss: 2.8816 - accuracy: 0.3683\n",
      "Epoch 112/200\n",
      "101711/101711 [==============================] - 160s 2ms/step - loss: 2.8711 - accuracy: 0.3691\n",
      "Epoch 113/200\n",
      "101711/101711 [==============================] - 160s 2ms/step - loss: 2.8583 - accuracy: 0.3725\n",
      "Epoch 114/200\n",
      "101711/101711 [==============================] - 160s 2ms/step - loss: 2.8549 - accuracy: 0.3718\n",
      "Epoch 115/200\n",
      "101711/101711 [==============================] - 160s 2ms/step - loss: 2.8415 - accuracy: 0.3743\n",
      "Epoch 116/200\n",
      "101711/101711 [==============================] - 160s 2ms/step - loss: 2.8308 - accuracy: 0.3768\n",
      "Epoch 117/200\n",
      "101711/101711 [==============================] - 161s 2ms/step - loss: 2.8238 - accuracy: 0.3781\n",
      "Epoch 118/200\n",
      "101711/101711 [==============================] - 160s 2ms/step - loss: 2.8160 - accuracy: 0.3799\n",
      "Epoch 119/200\n",
      "101711/101711 [==============================] - 160s 2ms/step - loss: 2.8032 - accuracy: 0.3816\n",
      "Epoch 120/200\n",
      "101711/101711 [==============================] - 160s 2ms/step - loss: 2.7969 - accuracy: 0.3823\n",
      "Epoch 121/200\n",
      "101711/101711 [==============================] - 161s 2ms/step - loss: 2.7855 - accuracy: 0.3849\n",
      "Epoch 122/200\n",
      "101711/101711 [==============================] - 160s 2ms/step - loss: 2.7777 - accuracy: 0.3864\n",
      "Epoch 123/200\n",
      "101711/101711 [==============================] - 160s 2ms/step - loss: 2.7671 - accuracy: 0.3878\n",
      "Epoch 124/200\n",
      "101711/101711 [==============================] - 160s 2ms/step - loss: 2.7617 - accuracy: 0.3905\n",
      "Epoch 125/200\n",
      "101711/101711 [==============================] - 160s 2ms/step - loss: 2.7485 - accuracy: 0.3919\n",
      "Epoch 126/200\n",
      "101711/101711 [==============================] - 160s 2ms/step - loss: 2.7403 - accuracy: 0.3931\n",
      "Epoch 127/200\n",
      "101711/101711 [==============================] - 160s 2ms/step - loss: 2.7319 - accuracy: 0.3947\n",
      "Epoch 128/200\n",
      "101711/101711 [==============================] - 160s 2ms/step - loss: 2.7246 - accuracy: 0.3953\n",
      "Epoch 129/200\n",
      "101711/101711 [==============================] - 161s 2ms/step - loss: 2.7141 - accuracy: 0.3983\n",
      "Epoch 130/200\n",
      "101711/101711 [==============================] - 160s 2ms/step - loss: 2.7049 - accuracy: 0.3983\n",
      "Epoch 131/200\n",
      "101711/101711 [==============================] - 161s 2ms/step - loss: 2.6972 - accuracy: 0.4007\n",
      "Epoch 132/200\n",
      "101711/101711 [==============================] - 161s 2ms/step - loss: 2.6861 - accuracy: 0.4028\n",
      "Epoch 133/200\n",
      "101711/101711 [==============================] - 161s 2ms/step - loss: 2.6785 - accuracy: 0.4052\n",
      "Epoch 134/200\n",
      "101711/101711 [==============================] - 160s 2ms/step - loss: 2.6676 - accuracy: 0.4068\n",
      "Epoch 135/200\n",
      "101711/101711 [==============================] - 160s 2ms/step - loss: 2.6602 - accuracy: 0.4081\n",
      "Epoch 136/200\n",
      "101711/101711 [==============================] - 161s 2ms/step - loss: 2.6550 - accuracy: 0.4092\n",
      "Epoch 137/200\n",
      "101711/101711 [==============================] - 161s 2ms/step - loss: 2.6426 - accuracy: 0.4108\n",
      "Epoch 138/200\n",
      "101711/101711 [==============================] - 160s 2ms/step - loss: 2.6357 - accuracy: 0.4118\n",
      "Epoch 139/200\n",
      "101711/101711 [==============================] - 160s 2ms/step - loss: 2.6239 - accuracy: 0.4137\n",
      "Epoch 140/200\n",
      "101711/101711 [==============================] - 161s 2ms/step - loss: 2.6184 - accuracy: 0.4159\n",
      "Epoch 141/200\n",
      "101711/101711 [==============================] - 160s 2ms/step - loss: 2.6082 - accuracy: 0.4177\n",
      "Epoch 142/200\n",
      "101711/101711 [==============================] - 160s 2ms/step - loss: 2.6005 - accuracy: 0.4184\n",
      "Epoch 143/200\n",
      "101711/101711 [==============================] - 160s 2ms/step - loss: 2.5921 - accuracy: 0.4207\n",
      "Epoch 144/200\n",
      "101711/101711 [==============================] - 161s 2ms/step - loss: 2.5846 - accuracy: 0.4212\n",
      "Epoch 145/200\n",
      "101711/101711 [==============================] - 160s 2ms/step - loss: 2.5760 - accuracy: 0.4227\n",
      "Epoch 146/200\n",
      "101711/101711 [==============================] - 160s 2ms/step - loss: 2.5645 - accuracy: 0.4257\n",
      "Epoch 147/200\n",
      "101711/101711 [==============================] - 160s 2ms/step - loss: 2.5613 - accuracy: 0.4276\n",
      "Epoch 148/200\n",
      "101711/101711 [==============================] - 160s 2ms/step - loss: 2.5499 - accuracy: 0.4294\n",
      "Epoch 149/200\n",
      "101711/101711 [==============================] - 159s 2ms/step - loss: 2.5416 - accuracy: 0.4320\n",
      "Epoch 150/200\n",
      "101711/101711 [==============================] - 159s 2ms/step - loss: 2.5357 - accuracy: 0.4316\n",
      "Epoch 151/200\n",
      "101711/101711 [==============================] - 159s 2ms/step - loss: 2.5281 - accuracy: 0.4323\n",
      "Epoch 152/200\n",
      "101711/101711 [==============================] - 163s 2ms/step - loss: 2.5162 - accuracy: 0.4346\n",
      "Epoch 153/200\n",
      "101711/101711 [==============================] - 163s 2ms/step - loss: 2.5085 - accuracy: 0.4373\n",
      "Epoch 154/200\n",
      "101711/101711 [==============================] - 161s 2ms/step - loss: 2.5028 - accuracy: 0.4384\n",
      "Epoch 155/200\n",
      "101711/101711 [==============================] - 160s 2ms/step - loss: 2.4959 - accuracy: 0.4397\n",
      "Epoch 156/200\n",
      "101711/101711 [==============================] - 159s 2ms/step - loss: 2.4848 - accuracy: 0.4412\n",
      "Epoch 157/200\n",
      "101711/101711 [==============================] - 159s 2ms/step - loss: 2.4758 - accuracy: 0.4453\n",
      "Epoch 158/200\n",
      "101711/101711 [==============================] - 159s 2ms/step - loss: 2.4723 - accuracy: 0.4451\n",
      "Epoch 159/200\n",
      "101711/101711 [==============================] - 160s 2ms/step - loss: 2.4630 - accuracy: 0.4459\n",
      "Epoch 160/200\n",
      "101711/101711 [==============================] - 160s 2ms/step - loss: 2.4594 - accuracy: 0.4456\n",
      "Epoch 161/200\n",
      "101711/101711 [==============================] - 160s 2ms/step - loss: 2.4502 - accuracy: 0.4481\n",
      "Epoch 162/200\n",
      "101711/101711 [==============================] - 160s 2ms/step - loss: 2.4375 - accuracy: 0.4502\n",
      "Epoch 163/200\n",
      "101711/101711 [==============================] - 160s 2ms/step - loss: 2.4324 - accuracy: 0.4522\n",
      "Epoch 164/200\n",
      "101711/101711 [==============================] - 160s 2ms/step - loss: 2.4246 - accuracy: 0.4527\n",
      "Epoch 165/200\n",
      "101711/101711 [==============================] - 160s 2ms/step - loss: 2.4192 - accuracy: 0.4540\n",
      "Epoch 166/200\n",
      "101711/101711 [==============================] - 160s 2ms/step - loss: 2.4081 - accuracy: 0.4564\n",
      "Epoch 167/200\n",
      "101711/101711 [==============================] - 159s 2ms/step - loss: 2.4022 - accuracy: 0.4565\n",
      "Epoch 168/200\n",
      "101711/101711 [==============================] - 159s 2ms/step - loss: 2.3932 - accuracy: 0.4599\n",
      "Epoch 169/200\n",
      "101711/101711 [==============================] - 159s 2ms/step - loss: 2.3854 - accuracy: 0.4615\n",
      "Epoch 170/200\n",
      "101711/101711 [==============================] - 160s 2ms/step - loss: 2.3808 - accuracy: 0.4615\n",
      "Epoch 171/200\n",
      "101711/101711 [==============================] - 160s 2ms/step - loss: 2.3768 - accuracy: 0.4621\n",
      "Epoch 172/200\n",
      "101711/101711 [==============================] - 160s 2ms/step - loss: 2.3617 - accuracy: 0.4656\n",
      "Epoch 173/200\n",
      "101711/101711 [==============================] - 162s 2ms/step - loss: 2.3579 - accuracy: 0.4657\n",
      "Epoch 174/200\n",
      "101711/101711 [==============================] - 164s 2ms/step - loss: 2.3513 - accuracy: 0.4669\n",
      "Epoch 175/200\n",
      "101711/101711 [==============================] - 163s 2ms/step - loss: 2.3475 - accuracy: 0.4669\n",
      "Epoch 176/200\n",
      "101711/101711 [==============================] - 160s 2ms/step - loss: 2.3367 - accuracy: 0.4705\n",
      "Epoch 177/200\n",
      "101711/101711 [==============================] - 161s 2ms/step - loss: 2.3313 - accuracy: 0.4700\n",
      "Epoch 178/200\n",
      "101711/101711 [==============================] - 160s 2ms/step - loss: 2.3209 - accuracy: 0.4721\n",
      "Epoch 179/200\n",
      "101711/101711 [==============================] - 160s 2ms/step - loss: 2.3149 - accuracy: 0.4733\n",
      "Epoch 180/200\n",
      "101711/101711 [==============================] - 160s 2ms/step - loss: 2.3054 - accuracy: 0.4749\n",
      "Epoch 181/200\n",
      "101711/101711 [==============================] - 160s 2ms/step - loss: 2.2989 - accuracy: 0.4766\n",
      "Epoch 182/200\n",
      "101711/101711 [==============================] - 160s 2ms/step - loss: 2.2911 - accuracy: 0.4795\n",
      "Epoch 183/200\n",
      "101711/101711 [==============================] - 160s 2ms/step - loss: 2.2847 - accuracy: 0.4802\n",
      "Epoch 184/200\n",
      "101711/101711 [==============================] - 160s 2ms/step - loss: 2.2832 - accuracy: 0.4803\n",
      "Epoch 185/200\n",
      "101711/101711 [==============================] - 161s 2ms/step - loss: 2.2759 - accuracy: 0.4817\n",
      "Epoch 186/200\n",
      "101711/101711 [==============================] - 160s 2ms/step - loss: 2.2643 - accuracy: 0.4843\n",
      "Epoch 187/200\n",
      "101711/101711 [==============================] - 160s 2ms/step - loss: 2.2590 - accuracy: 0.4856\n",
      "Epoch 188/200\n",
      "101711/101711 [==============================] - 160s 2ms/step - loss: 2.2475 - accuracy: 0.4873\n",
      "Epoch 189/200\n",
      "101711/101711 [==============================] - 161s 2ms/step - loss: 2.2452 - accuracy: 0.4877\n",
      "Epoch 190/200\n",
      "101711/101711 [==============================] - 160s 2ms/step - loss: 2.2370 - accuracy: 0.4901\n",
      "Epoch 191/200\n",
      "101711/101711 [==============================] - 160s 2ms/step - loss: 2.2707 - accuracy: 0.4810\n",
      "Epoch 192/200\n",
      "101711/101711 [==============================] - 161s 2ms/step - loss: 2.2290 - accuracy: 0.4905\n",
      "Epoch 193/200\n",
      "101711/101711 [==============================] - 160s 2ms/step - loss: 2.2107 - accuracy: 0.4952\n",
      "Epoch 194/200\n",
      "101711/101711 [==============================] - 160s 2ms/step - loss: 2.2106 - accuracy: 0.4945\n",
      "Epoch 195/200\n",
      "101711/101711 [==============================] - 160s 2ms/step - loss: 2.2082 - accuracy: 0.4950\n",
      "Epoch 196/200\n",
      "101711/101711 [==============================] - 161s 2ms/step - loss: 2.1975 - accuracy: 0.4989\n",
      "Epoch 197/200\n",
      "101711/101711 [==============================] - 160s 2ms/step - loss: 2.1910 - accuracy: 0.4981\n",
      "Epoch 198/200\n",
      "101711/101711 [==============================] - 160s 2ms/step - loss: 2.1866 - accuracy: 0.4997\n",
      "Epoch 199/200\n",
      "101711/101711 [==============================] - 160s 2ms/step - loss: 2.1815 - accuracy: 0.5009\n",
      "Epoch 200/200\n",
      "101711/101711 [==============================] - 161s 2ms/step - loss: 2.1775 - accuracy: 0.5023\n"
     ]
    },
    {
     "data": {
      "text/plain": [
       "<keras.callbacks.callbacks.History at 0x7f304d374350>"
      ]
     },
     "execution_count": 15,
     "metadata": {},
     "output_type": "execute_result"
    }
   ],
   "source": [
    "# fit model\n",
    "model.fit(X, y, batch_size=128, epochs=200)"
   ]
  },
  {
   "cell_type": "code",
   "execution_count": null,
   "metadata": {},
   "outputs": [],
   "source": []
  },
  {
   "cell_type": "markdown",
   "metadata": {},
   "source": [
    "### Save Model"
   ]
  },
  {
   "cell_type": "code",
   "execution_count": 16,
   "metadata": {},
   "outputs": [],
   "source": [
    "# save the model to file\n",
    "model.save('model.h5')\n"
   ]
  },
  {
   "cell_type": "code",
   "execution_count": null,
   "metadata": {},
   "outputs": [],
   "source": []
  },
  {
   "cell_type": "markdown",
   "metadata": {},
   "source": [
    "### Generate Text"
   ]
  },
  {
   "cell_type": "code",
   "execution_count": 17,
   "metadata": {},
   "outputs": [],
   "source": [
    "# generate a sequence from a language model\n",
    "def generate_seq(model, tokenizer, seq_length, seed_text, n_words):\n",
    "    result = list()\n",
    "    in_text = seed_text\n",
    "    # generate a fixed number of words\n",
    "    for _ in range(n_words):\n",
    "        # encode the text as integer\n",
    "        encoded = tokenizer.texts_to_sequences([in_text])[0]\n",
    "        # truncate sequences to a fixed length\n",
    "        encoded = pad_sequences([encoded], maxlen=seq_length, truncating='pre')\n",
    "        # predict probabilities for each word\n",
    "        yhat = model.predict_classes(encoded, verbose=0)\n",
    "        # map predicted word index to word\n",
    "        out_word = ''\n",
    "        for word, index in tokenizer.word_index.items():\n",
    "            if index == yhat:\n",
    "                out_word = word\n",
    "                break\n",
    "        # append to input\n",
    "        in_text += ' ' + out_word\n",
    "        result.append(out_word)\n",
    "    return ' '.join(result)\n",
    "\n"
   ]
  },
  {
   "cell_type": "code",
   "execution_count": 23,
   "metadata": {},
   "outputs": [
    {
     "name": "stderr",
     "output_type": "stream",
     "text": [
      "/home/hasan/anaconda3/lib/python3.7/site-packages/tensorflow_core/python/framework/indexed_slices.py:424: UserWarning: Converting sparse IndexedSlices to a dense Tensor of unknown shape. This may consume a large amount of memory.\n",
      "  \"Converting sparse IndexedSlices to a dense Tensor of unknown shape. \"\n"
     ]
    },
    {
     "name": "stdout",
     "output_type": "stream",
     "text": [
      " as just or he would think it and would try to gain the but he would not be whether he would or would not be i is not to the my question is only whether the just while refusing to have more than another just would wish and claim to have \n",
      "\n"
     ]
    }
   ],
   "source": [
    "# load cleaned text sequences\n",
    "in_filename = '/home/hasan/DATA SET/Republic Plato Data/republic_sequences.txt'\n",
    "doc = load_doc(in_filename)\n",
    "lines = doc.split('\\n')\n",
    "seq_length = len(lines[0].split()) - 1\n",
    "\n",
    "# load the model\n",
    "model = load_model('model.h5')\n",
    "# load the tokenizer\n",
    "tokenizer = load(open('tokenizer.pkl', 'rb'))\n",
    "\n",
    "# select a seed text\n",
    "seed_text = lines[randint(0,len(lines))]\n",
    "print(seed_text + '\\n')\n"
   ]
  },
  {
   "cell_type": "code",
   "execution_count": 24,
   "metadata": {},
   "outputs": [
    {
     "name": "stdout",
     "output_type": "stream",
     "text": [
      "a common interest in the state from his own miserable of all is the he and the oligarch is third and the worker in leather and brass will be the victims of it and the species of imitation are in or the same is the progress which you call truth\n"
     ]
    }
   ],
   "source": [
    "# generate new text\n",
    "generated = generate_seq(model, tokenizer, seq_length, seed_text, 50)\n",
    "print(generated)\n"
   ]
  },
  {
   "cell_type": "code",
   "execution_count": null,
   "metadata": {},
   "outputs": [],
   "source": []
  }
 ],
 "metadata": {
  "kernelspec": {
   "display_name": "Python 3",
   "language": "python",
   "name": "python3"
  },
  "language_info": {
   "codemirror_mode": {
    "name": "ipython",
    "version": 3
   },
   "file_extension": ".py",
   "mimetype": "text/x-python",
   "name": "python",
   "nbconvert_exporter": "python",
   "pygments_lexer": "ipython3",
   "version": "3.7.5"
  }
 },
 "nbformat": 4,
 "nbformat_minor": 2
}
